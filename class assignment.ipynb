{
 "cells": [
  {
   "cell_type": "code",
   "execution_count": 1,
   "id": "c80adf58",
   "metadata": {},
   "outputs": [
    {
     "data": {
      "text/plain": [
       "6"
      ]
     },
     "execution_count": 1,
     "metadata": {},
     "output_type": "execute_result"
    }
   ],
   "source": [
    "# Addition\n",
    "a=2\n",
    "b=4\n",
    "sum=a+b\n",
    "sum "
   ]
  },
  {
   "cell_type": "code",
   "execution_count": 2,
   "id": "1a41990a",
   "metadata": {},
   "outputs": [],
   "source": [
    "# Square root\n",
    "a=6\n",
    "sq=6**2\n"
   ]
  },
  {
   "cell_type": "code",
   "execution_count": 3,
   "id": "c7638f9e",
   "metadata": {},
   "outputs": [
    {
     "data": {
      "text/plain": [
       "36"
      ]
     },
     "execution_count": 3,
     "metadata": {},
     "output_type": "execute_result"
    }
   ],
   "source": [
    "sq"
   ]
  },
  {
   "cell_type": "code",
   "execution_count": 4,
   "id": "d61117b7",
   "metadata": {},
   "outputs": [],
   "source": [
    "# Area of a triangle\n",
    "b=5\n",
    "h=7\n"
   ]
  },
  {
   "cell_type": "code",
   "execution_count": 5,
   "id": "daf6e8e7",
   "metadata": {},
   "outputs": [],
   "source": [
    "area=0.5*b*h"
   ]
  },
  {
   "cell_type": "code",
   "execution_count": 6,
   "id": "e3eaba6f",
   "metadata": {},
   "outputs": [
    {
     "data": {
      "text/plain": [
       "17.5"
      ]
     },
     "execution_count": 6,
     "metadata": {},
     "output_type": "execute_result"
    }
   ],
   "source": [
    "area"
   ]
  },
  {
   "cell_type": "code",
   "execution_count": 7,
   "id": "debe9516",
   "metadata": {},
   "outputs": [],
   "source": [
    "# simple interest\n",
    "p=20000\n",
    "t=4\n",
    "r=2"
   ]
  },
  {
   "cell_type": "code",
   "execution_count": 8,
   "id": "8152c5ff",
   "metadata": {},
   "outputs": [],
   "source": [
    "si=p*t*r/100"
   ]
  },
  {
   "cell_type": "code",
   "execution_count": 9,
   "id": "570b2d66",
   "metadata": {},
   "outputs": [
    {
     "data": {
      "text/plain": [
       "1600.0"
      ]
     },
     "execution_count": 9,
     "metadata": {},
     "output_type": "execute_result"
    }
   ],
   "source": [
    "si"
   ]
  },
  {
   "cell_type": "code",
   "execution_count": 12,
   "id": "3fa78d80",
   "metadata": {},
   "outputs": [
    {
     "data": {
      "text/plain": [
       "300000.0"
      ]
     },
     "execution_count": 12,
     "metadata": {},
     "output_type": "execute_result"
    }
   ],
   "source": [
    "# Compound Interest\n",
    "p=20000\n",
    "t=4\n",
    "r=2\n",
    "n=2\n",
    "ci=p*(1+r/n)*n*t-p\n",
    "ci"
   ]
  },
  {
   "cell_type": "code",
   "execution_count": null,
   "id": "30b24957",
   "metadata": {},
   "outputs": [],
   "source": []
  }
 ],
 "metadata": {
  "kernelspec": {
   "display_name": "Python 3 (ipykernel)",
   "language": "python",
   "name": "python3"
  },
  "language_info": {
   "codemirror_mode": {
    "name": "ipython",
    "version": 3
   },
   "file_extension": ".py",
   "mimetype": "text/x-python",
   "name": "python",
   "nbconvert_exporter": "python",
   "pygments_lexer": "ipython3",
   "version": "3.11.5"
  }
 },
 "nbformat": 4,
 "nbformat_minor": 5
}
