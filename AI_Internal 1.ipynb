{
 "cells": [
  {
   "cell_type": "code",
   "execution_count": 6,
   "id": "698edf48-827a-4deb-b695-1d0a1353470e",
   "metadata": {},
   "outputs": [
    {
     "name": "stdin",
     "output_type": "stream",
     "text": [
      "A: 3\n",
      "B: 6\n",
      "C: 13\n"
     ]
    },
    {
     "name": "stdout",
     "output_type": "stream",
     "text": [
      "The largest numbers among 3,6 and 13 is 13 \n"
     ]
    }
   ],
   "source": [
    "# 6. largest of three nums \n",
    "\n",
    "a = int(input(\"A:\"))\n",
    "b = int(input(\"B:\"))\n",
    "c = int(input(\"C:\"))\n",
    "if a>=b and a>=c:\n",
    "    large = a\n",
    "elif b>=a and b>=c:\n",
    "    large = b\n",
    "else:\n",
    "    large = c\n",
    "print(\"The largest numbers among {},{} and {} is {} \".format(a,b,c,large))\n",
    "    "
   ]
  },
  {
   "cell_type": "code",
   "execution_count": 8,
   "id": "a45c4d30-98fc-4fe6-8655-efdafd5b1026",
   "metadata": {},
   "outputs": [
    {
     "name": "stdin",
     "output_type": "stream",
     "text": [
      "Enter duration value: 2\n",
      "Enter rate value: 7\n"
     ]
    },
    {
     "name": "stdout",
     "output_type": "stream",
     "text": [
      "the simple interest with principe 7500 for the duration 2.0 with the interest rate 7.0 is 1050.0\n"
     ]
    }
   ],
   "source": [
    "# 7. (p*t*r/100) simple interest 7500\n",
    "\n",
    "p=7500\n",
    "t=float(input(\"Enter duration value:\"))\n",
    "r=float(input(\"Enter rate value:\"))\n",
    "si=(p*t*r)/100\n",
    "Total_amount=si\n",
    "print('the simple interest with principe',p,'for the duration',t,'with the interest rate',r,'is',si)"
   ]
  },
  {
   "cell_type": "code",
   "execution_count": 13,
   "id": "73977b0d-55d7-460b-866c-d97c2e666b53",
   "metadata": {},
   "outputs": [
    {
     "name": "stdout",
     "output_type": "stream",
     "text": [
      "Original name list is : ['Rashi', 'Soumya', 'Anu']\n",
      "Original roll_no list is : [1, 4, 5]\n",
      "Resultant dictionary is : {'Rashi': 1, 'Soumya': 4, 'Anu': 5}\n"
     ]
    }
   ],
   "source": [
    "# 5. Convert two list into dict\n",
    "\n",
    "name = [\"Rashi\", \"Soumya\", \"Anu\"]\n",
    "roll_no = [1, 4, 5]\n",
    " \n",
    "\n",
    "print(\"Original name list is : \"  +str(name))\n",
    "print(\"Original roll_no list is : \" + str(roll_no))\n",
    " \n",
    "\n",
    "res = {}\n",
    "for key in name:\n",
    "    for value in roll_no:\n",
    "        res[key] = value\n",
    "        roll_no.remove(value)\n",
    "        break\n",
    " \n",
    "print(\"Resultant dictionary is : \" + str(res))"
   ]
  },
  {
   "cell_type": "code",
   "execution_count": 10,
   "id": "44a0b5d9-20ff-4f17-8049-4f295773d584",
   "metadata": {},
   "outputs": [
    {
     "name": "stdout",
     "output_type": "stream",
     "text": [
      "Original list :\n",
      "[1, 2, 3, 4, 5, 6, 7, 8, 9, 10]\n",
      "\n",
      "Square every number of the list:\n",
      "[1, 4, 9, 16, 25, 36, 49, 64, 81, 100]\n"
     ]
    }
   ],
   "source": [
    "#  4. lambda expr to sq a each num in list.\n",
    "\n",
    "num = [1, 2, 3, 4, 5, 6, 7, 8, 9, 10]\n",
    "\n",
    "print(\"Original list :\")\n",
    "print(num)\n",
    "\n",
    "\n",
    "print(\"\\nSquare every number of the list:\")\n",
    "\n",
    "\n",
    "square_nums = list(map(lambda x: x ** 2, num))\n",
    "print(square_nums)\n",
    "\n",
    "\n",
    " "
   ]
  },
  {
   "cell_type": "code",
   "execution_count": 3,
   "id": "361dc3e1-8b85-4cb2-912b-edb7ae1a6375",
   "metadata": {},
   "outputs": [
    {
     "name": "stdout",
     "output_type": "stream",
     "text": [
      "Soumya earns an annual salary of Inr 480000\n"
     ]
    }
   ],
   "source": [
    "# 2.\n",
    "class Employee:\n",
    "    def __init__(self, name, position, salary):\n",
    "        self.name = name\n",
    "        self.position = position\n",
    "        self.salary = salary\n",
    "\n",
    "    def calculate_annual_salary(self):\n",
    "        return self.salary * 12\n",
    "    \n",
    "empl1 = Employee(\"Soumya\", \"IP Coordinator\", 40000)  \n",
    "annual_salary = empl1.calculate_annual_salary()  \n",
    "print(f\"{empl1.name} earns an annual salary of Inr {annual_salary}\")"
   ]
  },
  {
   "cell_type": "code",
   "execution_count": null,
   "id": "733692c7-62ff-458c-badb-e1dabd5a644d",
   "metadata": {},
   "outputs": [],
   "source": []
  }
 ],
 "metadata": {
  "kernelspec": {
   "display_name": "Python 3 (ipykernel)",
   "language": "python",
   "name": "python3"
  },
  "language_info": {
   "codemirror_mode": {
    "name": "ipython",
    "version": 3
   },
   "file_extension": ".py",
   "mimetype": "text/x-python",
   "name": "python",
   "nbconvert_exporter": "python",
   "pygments_lexer": "ipython3",
   "version": "3.11.5"
  }
 },
 "nbformat": 4,
 "nbformat_minor": 5
}
