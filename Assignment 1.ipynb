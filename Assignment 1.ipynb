{
 "cells": [
  {
   "cell_type": "code",
   "execution_count": 14,
   "id": "0ebe4ee8",
   "metadata": {},
   "outputs": [
    {
     "data": {
      "text/plain": [
       "6"
      ]
     },
     "execution_count": 14,
     "metadata": {},
     "output_type": "execute_result"
    }
   ],
   "source": [
    "# Comments in Python begin with\n",
    "2+4  #Addition"
   ]
  },
  {
   "cell_type": "code",
   "execution_count": 15,
   "id": "94cf2b54",
   "metadata": {},
   "outputs": [
    {
     "data": {
      "text/plain": [
       "8"
      ]
     },
     "execution_count": 15,
     "metadata": {},
     "output_type": "execute_result"
    }
   ],
   "source": [
    "2*4  #Mutipication"
   ]
  },
  {
   "cell_type": "code",
   "execution_count": 16,
   "id": "015e173d",
   "metadata": {},
   "outputs": [
    {
     "data": {
      "text/plain": [
       "16"
      ]
     },
     "execution_count": 16,
     "metadata": {},
     "output_type": "execute_result"
    }
   ],
   "source": [
    "2**4  # 2 raised to power 4"
   ]
  },
  {
   "cell_type": "code",
   "execution_count": 17,
   "id": "5fc3562e",
   "metadata": {},
   "outputs": [
    {
     "data": {
      "text/plain": [
       "0.5"
      ]
     },
     "execution_count": 17,
     "metadata": {},
     "output_type": "execute_result"
    }
   ],
   "source": [
    "2/4  # 2 divided by 4"
   ]
  },
  {
   "cell_type": "code",
   "execution_count": 18,
   "id": "ef9f1db9",
   "metadata": {},
   "outputs": [
    {
     "data": {
      "text/plain": [
       "9"
      ]
     },
     "execution_count": 18,
     "metadata": {},
     "output_type": "execute_result"
    }
   ],
   "source": [
    "# ---ON IDLE---\n",
    "2+3+4"
   ]
  },
  {
   "cell_type": "code",
   "execution_count": 19,
   "id": "ad3bf6b9",
   "metadata": {},
   "outputs": [],
   "source": [
    "# ---ON IDLE---\n",
    "friut = ['apple' , 'grape' ,       # List of fruits\n",
    "         'mango']  "
   ]
  },
  {
   "cell_type": "code",
   "execution_count": 21,
   "id": "a183150b",
   "metadata": {},
   "outputs": [],
   "source": [
    "alphabet = ['a' , 'b' ,           # tuple of alphabet\n",
    "            'c' , 'd']  "
   ]
  },
  {
   "cell_type": "code",
   "execution_count": 22,
   "id": "efbdc5bc",
   "metadata": {},
   "outputs": [],
   "source": [
    "opposites = {               # Dictionary of opposites\n",
    "'tall' : 'short' , \n",
    "'fat' : 'slim' ,\n",
    "}"
   ]
  },
  {
   "cell_type": "code",
   "execution_count": 23,
   "id": "fea008d8",
   "metadata": {},
   "outputs": [
    {
     "name": "stdout",
     "output_type": "stream",
     "text": [
      "11\n"
     ]
    }
   ],
   "source": [
    "# ---ON IDLE---\n",
    "a=5;b=6;print(a+b)"
   ]
  },
  {
   "cell_type": "code",
   "execution_count": 24,
   "id": "81fc08d0",
   "metadata": {},
   "outputs": [
    {
     "data": {
      "text/plain": [
       "['False',\n",
       " 'None',\n",
       " 'True',\n",
       " 'and',\n",
       " 'asert',\n",
       " 'break',\n",
       " 'class',\n",
       " 'continue',\n",
       " 'def',\n",
       " 'del',\n",
       " 'elif',\n",
       " 'else',\n",
       " 'except',\n",
       " 'finally',\n",
       " 'for',\n",
       " 'from',\n",
       " 'global',\n",
       " 'if',\n",
       " 'import',\n",
       " 'in',\n",
       " 'is',\n",
       " 'lambda',\n",
       " 'nonlocal',\n",
       " 'not',\n",
       " 'or',\n",
       " 'pass',\n",
       " 'raise',\n",
       " 'return',\n",
       " 'try',\n",
       " 'while',\n",
       " 'with',\n",
       " 'yield']"
      ]
     },
     "execution_count": 24,
     "metadata": {},
     "output_type": "execute_result"
    }
   ],
   "source": [
    "# ---ON IDLE---\n",
    "# To see list of all keywords, type the following twwo commands\n",
    "import keyword  # First Command, Import module keyword\n",
    "keyword.kwlist  # Second Command\n",
    "['False' , 'None' , 'True' , 'and' , 'asert' , 'break' , 'class' , 'continue' , 'def' , 'del' , 'elif' , 'else' , 'except' , 'finally' , 'for' , 'from'  , 'global' , 'if' , 'import' , 'in' , 'is' , 'lambda' , 'nonlocal' , 'not' , 'or' , 'pass' , 'raise' , 'return' , 'try'  , 'while' , 'with' , 'yield']"
   ]
  },
  {
   "cell_type": "code",
   "execution_count": 26,
   "id": "25dc879d",
   "metadata": {},
   "outputs": [
    {
     "name": "stdout",
     "output_type": "stream",
     "text": [
      "2\n",
      "3\n"
     ]
    }
   ],
   "source": [
    "# ---ON IDLE---\n",
    "x = 2  # \"pionts\" to 2\n",
    "y = x  # Now y also \"points\" to 2\n",
    "y = 3 # Now y \"points\" to 3\n",
    "print(x)\n",
    "print(y)"
   ]
  },
  {
   "cell_type": "code",
   "execution_count": 27,
   "id": "a0260cae",
   "metadata": {},
   "outputs": [
    {
     "data": {
      "text/plain": [
       "str"
      ]
     },
     "execution_count": 27,
     "metadata": {},
     "output_type": "execute_result"
    }
   ],
   "source": [
    "# ---ON IDLE---\n",
    "x = 'abc'\n",
    "type(x)  # type() function is used to get type of an object"
   ]
  },
  {
   "cell_type": "code",
   "execution_count": 28,
   "id": "364aabc2",
   "metadata": {},
   "outputs": [
    {
     "data": {
      "text/plain": [
       "int"
      ]
     },
     "execution_count": 28,
     "metadata": {},
     "output_type": "execute_result"
    }
   ],
   "source": [
    "x = 5\n",
    "type(x)"
   ]
  },
  {
   "cell_type": "code",
   "execution_count": 29,
   "id": "75777222",
   "metadata": {},
   "outputs": [
    {
     "data": {
      "text/plain": [
       "2569429518320"
      ]
     },
     "execution_count": 29,
     "metadata": {},
     "output_type": "execute_result"
    }
   ],
   "source": [
    "# ---ON IDLE---\n",
    "myFloat = 68.12\n",
    "id(myFloat)"
   ]
  },
  {
   "cell_type": "code",
   "execution_count": 30,
   "id": "c4a87131",
   "metadata": {},
   "outputs": [
    {
     "data": {
      "text/plain": [
       "68"
      ]
     },
     "execution_count": 30,
     "metadata": {},
     "output_type": "execute_result"
    }
   ],
   "source": [
    "myInt = int(myFloat)   # int() is casting function\n",
    "myInt    # myInt will now point to value 68"
   ]
  },
  {
   "cell_type": "code",
   "execution_count": 31,
   "id": "ab8d841b",
   "metadata": {},
   "outputs": [
    {
     "data": {
      "text/plain": [
       "140735868935048"
      ]
     },
     "execution_count": 31,
     "metadata": {},
     "output_type": "execute_result"
    }
   ],
   "source": [
    "id(myInt)"
   ]
  },
  {
   "cell_type": "code",
   "execution_count": 32,
   "id": "5962f558",
   "metadata": {},
   "outputs": [
    {
     "data": {
      "text/plain": [
       "140735868935048"
      ]
     },
     "execution_count": 32,
     "metadata": {},
     "output_type": "execute_result"
    }
   ],
   "source": [
    "id(68)"
   ]
  },
  {
   "cell_type": "code",
   "execution_count": null,
   "id": "32646b52",
   "metadata": {},
   "outputs": [],
   "source": []
  }
 ],
 "metadata": {
  "kernelspec": {
   "display_name": "Python 3 (ipykernel)",
   "language": "python",
   "name": "python3"
  },
  "language_info": {
   "codemirror_mode": {
    "name": "ipython",
    "version": 3
   },
   "file_extension": ".py",
   "mimetype": "text/x-python",
   "name": "python",
   "nbconvert_exporter": "python",
   "pygments_lexer": "ipython3",
   "version": "3.11.5"
  }
 },
 "nbformat": 4,
 "nbformat_minor": 5
}
