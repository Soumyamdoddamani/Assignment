{
 "cells": [
  {
   "cell_type": "code",
   "execution_count": 1,
   "id": "c80adf58",
   "metadata": {},
   "outputs": [
    {
     "data": {
      "text/plain": [
       "6"
      ]
     },
     "execution_count": 1,
     "metadata": {},
     "output_type": "execute_result"
    }
   ],
   "source": [
    "# Addition\n",
    "a=2\n",
    "b=4\n",
    "sum=a+b\n",
    "sum "
   ]
  },
  {
   "cell_type": "code",
   "execution_count": 2,
   "id": "1a41990a",
   "metadata": {},
   "outputs": [],
   "source": [
    "# Square root\n",
    "a=6\n",
    "sq=6**2\n"
   ]
  },
  {
   "cell_type": "code",
   "execution_count": 3,
   "id": "c7638f9e",
   "metadata": {},
   "outputs": [
    {
     "data": {
      "text/plain": [
       "36"
      ]
     },
     "execution_count": 3,
     "metadata": {},
     "output_type": "execute_result"
    }
   ],
   "source": [
    "sq"
   ]
  },
  {
   "cell_type": "code",
   "execution_count": 4,
   "id": "d61117b7",
   "metadata": {},
   "outputs": [],
   "source": [
    "# Area of a triangle\n",
    "b=5\n",
    "h=7\n"
   ]
  },
  {
   "cell_type": "code",
   "execution_count": 5,
   "id": "daf6e8e7",
   "metadata": {},
   "outputs": [],
   "source": [
    "area=0.5*b*h"
   ]
  },
  {
   "cell_type": "code",
   "execution_count": 6,
   "id": "e3eaba6f",
   "metadata": {},
   "outputs": [
    {
     "data": {
      "text/plain": [
       "17.5"
      ]
     },
     "execution_count": 6,
     "metadata": {},
     "output_type": "execute_result"
    }
   ],
   "source": [
    "area"
   ]
  },
  {
   "cell_type": "code",
   "execution_count": 7,
   "id": "debe9516",
   "metadata": {},
   "outputs": [],
   "source": [
    "# simple interest\n",
    "p=20000\n",
    "t=4\n",
    "r=2"
   ]
  },
  {
   "cell_type": "code",
   "execution_count": 8,
   "id": "8152c5ff",
   "metadata": {},
   "outputs": [],
   "source": [
    "si=p*t*r/100"
   ]
  },
  {
   "cell_type": "code",
   "execution_count": 9,
   "id": "570b2d66",
   "metadata": {},
   "outputs": [
    {
     "data": {
      "text/plain": [
       "1600.0"
      ]
     },
     "execution_count": 9,
     "metadata": {},
     "output_type": "execute_result"
    }
   ],
   "source": [
    "si"
   ]
  },
  {
   "cell_type": "code",
   "execution_count": 12,
   "id": "3fa78d80",
   "metadata": {},
   "outputs": [
    {
     "data": {
      "text/plain": [
       "300000.0"
      ]
     },
     "execution_count": 12,
     "metadata": {},
     "output_type": "execute_result"
    }
   ],
   "source": [
    "# Compound Interest\n",
    "p=20000\n",
    "t=4\n",
    "r=2\n",
    "n=2\n",
    "ci=p*(1+r/n)*n*t-p\n",
    "ci"
   ]
  },
  {
   "cell_type": "code",
   "execution_count": 13,
   "id": "30b24957",
   "metadata": {},
   "outputs": [
    {
     "name": "stdout",
     "output_type": "stream",
     "text": [
      "Enter base vaue:6\n",
      "Enter height vaue:7\n",
      "the area of triangle with base 6.0 and height 7.0 is 21.0\n"
     ]
    }
   ],
   "source": [
    "b=float(input(\"Enter base vaue:\"))\n",
    "h=float(input(\"Enter height vaue:\"))\n",
    "area=0.5*b*h\n",
    "print('the area of triangle with base',b,'and height',h,'is',area)"
   ]
  },
  {
   "cell_type": "markdown",
   "id": "c124d6be",
   "metadata": {},
   "source": [
    "### Simple Interest"
   ]
  },
  {
   "cell_type": "code",
   "execution_count": null,
   "id": "9fb5c449",
   "metadata": {},
   "outputs": [],
   "source": [
    "# (p*t*r/100)\n",
    "\n",
    "p=int(input(\"Enter principe value:\"))\n",
    "t=float(input(\"Enter duration value:\"))\n",
    "r=float(input(\"Enter rate value:\"))\n",
    "si=(p*t*r)/100\n",
    "Total_amount=si\n",
    "print('the simple interest with principe',p,'for the duration',t,'with the interest rate',r,'is',si)"
   ]
  },
  {
   "cell_type": "code",
   "execution_count": null,
   "id": "05bfaefd",
   "metadata": {},
   "outputs": [],
   "source": [
    "p=int(input(\"Enter principe value:\"))\n",
    "t=float(input(\"Enter duration value:\"))\n",
    "r=float(input(\"Enter rate value:\"))\n",
    "ci=p*(1+r/n)*n*t-p\n",
    "print(ci)"
   ]
  },
  {
   "cell_type": "code",
   "execution_count": 19,
   "id": "9a9afa4f",
   "metadata": {},
   "outputs": [
    {
     "data": {
      "text/plain": [
       "' ataD'"
      ]
     },
     "execution_count": 19,
     "metadata": {},
     "output_type": "execute_result"
    }
   ],
   "source": [
    "# Reverse Data\n",
    "str1='HELLO PYTHON'\n",
    "str2 = ' Data is new fuel'\n",
    "str2[-12:-17:-1]"
   ]
  },
  {
   "cell_type": "code",
   "execution_count": 20,
   "id": "7067d05c",
   "metadata": {},
   "outputs": [
    {
     "data": {
      "text/plain": [
       "'wen'"
      ]
     },
     "execution_count": 20,
     "metadata": {},
     "output_type": "execute_result"
    }
   ],
   "source": [
    "str2[-6:-9:-1]"
   ]
  },
  {
   "cell_type": "code",
   "execution_count": 25,
   "id": "2ef51371",
   "metadata": {},
   "outputs": [
    {
     "data": {
      "text/plain": [
       "'HILLO PYTHON'"
      ]
     },
     "execution_count": 25,
     "metadata": {},
     "output_type": "execute_result"
    }
   ],
   "source": [
    "str2=str1.replace('HE','HI')\n",
    "str2"
   ]
  },
  {
   "cell_type": "code",
   "execution_count": 26,
   "id": "5cd30ffd",
   "metadata": {},
   "outputs": [
    {
     "data": {
      "text/plain": [
       "'HELLO*PYTHON'"
      ]
     },
     "execution_count": 26,
     "metadata": {},
     "output_type": "execute_result"
    }
   ],
   "source": [
    "str2=str1.replace(' ','*')\n",
    "str2"
   ]
  },
  {
   "cell_type": "code",
   "execution_count": 28,
   "id": "51f83cd6",
   "metadata": {},
   "outputs": [
    {
     "name": "stdout",
     "output_type": "stream",
     "text": [
      "HELLO*PYTHON\n"
     ]
    }
   ],
   "source": [
    "str2=str1.replace(' ','*')\n",
    "print(str2)"
   ]
  },
  {
   "cell_type": "code",
   "execution_count": 1,
   "id": "66a6005e",
   "metadata": {},
   "outputs": [
    {
     "data": {
      "text/plain": [
       "'DataScience'"
      ]
     },
     "execution_count": 1,
     "metadata": {},
     "output_type": "execute_result"
    }
   ],
   "source": [
    "s1= 'Data'\n",
    "s2= 'Science'\n",
    "s3=s1 +s2\n",
    "s3"
   ]
  },
  {
   "cell_type": "code",
   "execution_count": 2,
   "id": "15d14f49",
   "metadata": {},
   "outputs": [
    {
     "data": {
      "text/plain": [
       "'Data Science'"
      ]
     },
     "execution_count": 2,
     "metadata": {},
     "output_type": "execute_result"
    }
   ],
   "source": [
    "s3=s1+\" \"+s2\n",
    "s3"
   ]
  },
  {
   "cell_type": "code",
   "execution_count": 3,
   "id": "2db0c19c",
   "metadata": {},
   "outputs": [
    {
     "data": {
      "text/plain": [
       "'Data * Science'"
      ]
     },
     "execution_count": 3,
     "metadata": {},
     "output_type": "execute_result"
    }
   ],
   "source": [
    "s3=s1+\" * \"+s2\n",
    "s3"
   ]
  },
  {
   "cell_type": "code",
   "execution_count": 4,
   "id": "7eb10cfe",
   "metadata": {},
   "outputs": [],
   "source": [
    "# string membership\n",
    "mystr1= \"Hello Everyone\""
   ]
  },
  {
   "cell_type": "code",
   "execution_count": 5,
   "id": "847fae37",
   "metadata": {},
   "outputs": [
    {
     "data": {
      "text/plain": [
       "True"
      ]
     },
     "execution_count": 5,
     "metadata": {},
     "output_type": "execute_result"
    }
   ],
   "source": [
    "'Hello' in mystr1"
   ]
  },
  {
   "cell_type": "code",
   "execution_count": 6,
   "id": "ece4ead3",
   "metadata": {},
   "outputs": [
    {
     "name": "stdout",
     "output_type": "stream",
     "text": [
      "Enter string\n"
     ]
    },
    {
     "data": {
      "text/plain": [
       "''"
      ]
     },
     "execution_count": 6,
     "metadata": {},
     "output_type": "execute_result"
    }
   ],
   "source": [
    "#task: find numbers in a string\n",
    "str3=input(\"Enter string\")\n",
    "str3"
   ]
  },
  {
   "cell_type": "code",
   "execution_count": 7,
   "id": "71ab95fc",
   "metadata": {},
   "outputs": [
    {
     "data": {
      "text/plain": [
       "''"
      ]
     },
     "execution_count": 7,
     "metadata": {},
     "output_type": "execute_result"
    }
   ],
   "source": [
    "'123' in str3\n",
    "str3"
   ]
  },
  {
   "cell_type": "code",
   "execution_count": 8,
   "id": "f9181e66",
   "metadata": {},
   "outputs": [
    {
     "data": {
      "text/plain": [
       "'my number is 123'"
      ]
     },
     "execution_count": 8,
     "metadata": {},
     "output_type": "execute_result"
    }
   ],
   "source": [
    "mystr3=\"my number is 123\"\n",
    "mystr3"
   ]
  },
  {
   "cell_type": "code",
   "execution_count": 9,
   "id": "2bbf384e",
   "metadata": {},
   "outputs": [
    {
     "data": {
      "text/plain": [
       "True"
      ]
     },
     "execution_count": 9,
     "metadata": {},
     "output_type": "execute_result"
    }
   ],
   "source": [
    "'12' in mystr3\n"
   ]
  },
  {
   "cell_type": "code",
   "execution_count": 10,
   "id": "f59d91b5",
   "metadata": {},
   "outputs": [
    {
     "data": {
      "text/plain": [
       "('Natural language processing with Python ', 'and', ' R and Java')"
      ]
     },
     "execution_count": 10,
     "metadata": {},
     "output_type": "execute_result"
    }
   ],
   "source": [
    "str4= \"Natural language processing with Python and R and Java\"\n",
    "L=str4.partition(\"and\")\n",
    "L"
   ]
  },
  {
   "cell_type": "code",
   "execution_count": 11,
   "id": "58c7ca95",
   "metadata": {},
   "outputs": [
    {
     "data": {
      "text/plain": [
       "1"
      ]
     },
     "execution_count": 11,
     "metadata": {},
     "output_type": "execute_result"
    }
   ],
   "source": [
    "#count\n",
    "mystr3.count('y')"
   ]
  },
  {
   "cell_type": "code",
   "execution_count": 12,
   "id": "6f56c8a3",
   "metadata": {},
   "outputs": [
    {
     "data": {
      "text/plain": [
       "' number is 123'"
      ]
     },
     "execution_count": 12,
     "metadata": {},
     "output_type": "execute_result"
    }
   ],
   "source": [
    "# strip\n",
    "mystr3.strip('my')"
   ]
  },
  {
   "cell_type": "code",
   "execution_count": 13,
   "id": "bbef7326",
   "metadata": {},
   "outputs": [
    {
     "data": {
      "text/plain": [
       "'my number is 123'"
      ]
     },
     "execution_count": 13,
     "metadata": {},
     "output_type": "execute_result"
    }
   ],
   "source": [
    "mystr3"
   ]
  },
  {
   "cell_type": "code",
   "execution_count": 14,
   "id": "a7318723",
   "metadata": {},
   "outputs": [
    {
     "data": {
      "text/plain": [
       "'my number is'"
      ]
     },
     "execution_count": 14,
     "metadata": {},
     "output_type": "execute_result"
    }
   ],
   "source": [
    "mystr3.strip(' 123')"
   ]
  },
  {
   "cell_type": "code",
   "execution_count": 15,
   "id": "9f187244",
   "metadata": {},
   "outputs": [],
   "source": [
    "mystr5= 'Welcome to Python '\n"
   ]
  },
  {
   "cell_type": "code",
   "execution_count": 16,
   "id": "4a6c2337",
   "metadata": {},
   "outputs": [
    {
     "data": {
      "text/plain": [
       "'Welcome to Python'"
      ]
     },
     "execution_count": 16,
     "metadata": {},
     "output_type": "execute_result"
    }
   ],
   "source": [
    "mystr5.rstrip(' ')"
   ]
  },
  {
   "cell_type": "code",
   "execution_count": 17,
   "id": "18cfc684",
   "metadata": {},
   "outputs": [
    {
     "data": {
      "text/plain": [
       "'WELCOME TO PYTHON '"
      ]
     },
     "execution_count": 17,
     "metadata": {},
     "output_type": "execute_result"
    }
   ],
   "source": [
    "mystr5.upper()"
   ]
  },
  {
   "cell_type": "code",
   "execution_count": 18,
   "id": "c00c7c18",
   "metadata": {},
   "outputs": [
    {
     "data": {
      "text/plain": [
       "'welcome to python '"
      ]
     },
     "execution_count": 18,
     "metadata": {},
     "output_type": "execute_result"
    }
   ],
   "source": [
    "mystr5.lower()"
   ]
  },
  {
   "cell_type": "code",
   "execution_count": 19,
   "id": "e1215c94",
   "metadata": {},
   "outputs": [
    {
     "data": {
      "text/plain": [
       "True"
      ]
     },
     "execution_count": 19,
     "metadata": {},
     "output_type": "execute_result"
    }
   ],
   "source": [
    "mystr5.startswith(\"We\")"
   ]
  },
  {
   "cell_type": "code",
   "execution_count": 20,
   "id": "eb199499",
   "metadata": {},
   "outputs": [
    {
     "data": {
      "text/plain": [
       "True"
      ]
     },
     "execution_count": 20,
     "metadata": {},
     "output_type": "execute_result"
    }
   ],
   "source": [
    "mystr5.endswith(\"on \")"
   ]
  },
  {
   "cell_type": "code",
   "execution_count": 21,
   "id": "69f144a0",
   "metadata": {},
   "outputs": [
    {
     "name": "stdout",
     "output_type": "stream",
     "text": [
      "['Welcome', 'to', 'Python']\n"
     ]
    }
   ],
   "source": [
    "# split() returns to an output\n",
    "\n",
    "print(mystr5.split())\n",
    " #List=mystr5.split()\n",
    "#List"
   ]
  },
  {
   "cell_type": "code",
   "execution_count": 22,
   "id": "b2655dc3",
   "metadata": {},
   "outputs": [
    {
     "name": "stdout",
     "output_type": "stream",
     "text": [
      "['', ' to Python ']\n"
     ]
    }
   ],
   "source": [
    "print(mystr5.split('Welcome'))"
   ]
  },
  {
   "cell_type": "code",
   "execution_count": 23,
   "id": "e6717b6c",
   "metadata": {},
   "outputs": [
    {
     "name": "stdout",
     "output_type": "stream",
     "text": [
      "The vaue of a and b is 6 8\n"
     ]
    }
   ],
   "source": [
    "a=6\n",
    "b=8\n",
    "sum=a+b\n",
    "print(\"The vaue of a and b is\",a,b)"
   ]
  },
  {
   "cell_type": "code",
   "execution_count": 24,
   "id": "570d683b",
   "metadata": {},
   "outputs": [
    {
     "name": "stdout",
     "output_type": "stream",
     "text": [
      "The sum of a is 6 & b is 8 this is my sum  14\n"
     ]
    }
   ],
   "source": [
    "print(\"The sum of a is {} & b is {} this is my sum  {}\".format(a,b,sum))"
   ]
  },
  {
   "cell_type": "code",
   "execution_count": 25,
   "id": "0bd0d1b2",
   "metadata": {},
   "outputs": [
    {
     "name": "stdout",
     "output_type": "stream",
     "text": [
      "Cost of Item1, Item3 and Item2 are 40,77 and 55\n"
     ]
    }
   ],
   "source": [
    "Item1= 40\n",
    "Item2= 55\n",
    "Item3= 77\n",
    "print('Cost of Item1, Item3 and Item2 are {},{} and {}'.format(Item1,Item3, Item2))"
   ]
  },
  {
   "cell_type": "code",
   "execution_count": 26,
   "id": "c6755478",
   "metadata": {},
   "outputs": [
    {
     "name": "stdout",
     "output_type": "stream",
     "text": [
      "The value of a is 4 and the value of b is 5 and value of c is 3\n"
     ]
    }
   ],
   "source": [
    "a=4\n",
    "b=5\n",
    "c=3\n",
    "print('The value of a is {} and the value of b is {} and value of c is {}'.format(4,5,3))"
   ]
  },
  {
   "cell_type": "code",
   "execution_count": 1,
   "id": "c1c3e3e6",
   "metadata": {},
   "outputs": [
    {
     "data": {
      "text/plain": [
       "'HELLO WORLD'"
      ]
     },
     "execution_count": 1,
     "metadata": {},
     "output_type": "execute_result"
    }
   ],
   "source": [
    "mystr1 = 'Hello World'\n",
    "mystr1.upper()"
   ]
  },
  {
   "cell_type": "code",
   "execution_count": 2,
   "id": "c25e6666",
   "metadata": {},
   "outputs": [
    {
     "name": "stdout",
     "output_type": "stream",
     "text": [
      "Enter your NameSoumya\n",
      "Enter EducationBsc\n",
      "My name is Soumya and i have completed Bsc\n"
     ]
    }
   ],
   "source": [
    "Name = input(\"Enter your Name\")\n",
    "Education = input(\"Enter Education\")\n",
    "print('My name is',Name,'and i have completed',Education)"
   ]
  },
  {
   "cell_type": "code",
   "execution_count": 3,
   "id": "a03ffea6",
   "metadata": {},
   "outputs": [
    {
     "data": {
      "text/plain": [
       "11"
      ]
     },
     "execution_count": 3,
     "metadata": {},
     "output_type": "execute_result"
    }
   ],
   "source": [
    "len(mystr1)"
   ]
  },
  {
   "cell_type": "code",
   "execution_count": 4,
   "id": "b3c913c7",
   "metadata": {},
   "outputs": [
    {
     "name": "stdout",
     "output_type": "stream",
     "text": [
      "My-name-is-soumya\n"
     ]
    }
   ],
   "source": [
    "a= 'My name is soumya'\n",
    "a= a.replace(' ','-')\n",
    "print(a)"
   ]
  },
  {
   "cell_type": "code",
   "execution_count": null,
   "id": "f8c79b93",
   "metadata": {},
   "outputs": [],
   "source": []
  }
 ],
 "metadata": {
  "kernelspec": {
   "display_name": "Python 3 (ipykernel)",
   "language": "python",
   "name": "python3"
  },
  "language_info": {
   "codemirror_mode": {
    "name": "ipython",
    "version": 3
   },
   "file_extension": ".py",
   "mimetype": "text/x-python",
   "name": "python",
   "nbconvert_exporter": "python",
   "pygments_lexer": "ipython3",
   "version": "3.11.5"
  }
 },
 "nbformat": 4,
 "nbformat_minor": 5
}
