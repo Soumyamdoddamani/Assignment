{
 "cells": [
  {
   "cell_type": "code",
   "execution_count": 1,
   "id": "42f9c52d",
   "metadata": {},
   "outputs": [
    {
     "data": {
      "text/plain": [
       "'Good Vibes'"
      ]
     },
     "execution_count": 1,
     "metadata": {},
     "output_type": "execute_result"
    }
   ],
   "source": [
    "# String creation \n",
    "mystr = \"Good Vibes\"\n",
    "mystr"
   ]
  },
  {
   "cell_type": "code",
   "execution_count": 3,
   "id": "d6288cac",
   "metadata": {},
   "outputs": [
    {
     "data": {
      "text/plain": [
       "'Loyalty is Royalty'"
      ]
     },
     "execution_count": 3,
     "metadata": {},
     "output_type": "execute_result"
    }
   ],
   "source": [
    "# Concatention\n",
    "s1 = \"Loyalty is\"\n",
    "s2 = \" Royalty\"\n",
    "s3 = s1+ s2\n",
    "s3"
   ]
  },
  {
   "cell_type": "code",
   "execution_count": 4,
   "id": "84bfbeb2",
   "metadata": {},
   "outputs": [
    {
     "data": {
      "text/plain": [
       "18"
      ]
     },
     "execution_count": 4,
     "metadata": {},
     "output_type": "execute_result"
    }
   ],
   "source": [
    "# Manipulation\n",
    "len(s3)"
   ]
  },
  {
   "cell_type": "code",
   "execution_count": 6,
   "id": "55198331",
   "metadata": {},
   "outputs": [
    {
     "data": {
      "text/plain": [
       "'ytlayoR si ytlayo'"
      ]
     },
     "execution_count": 6,
     "metadata": {},
     "output_type": "execute_result"
    }
   ],
   "source": [
    "# Reverse of a given string\n",
    "s3[-1:-18:-1]"
   ]
  },
  {
   "cell_type": "code",
   "execution_count": 13,
   "id": "a901c5a5",
   "metadata": {},
   "outputs": [],
   "source": [
    "# Remove all vowels\n",
    "#input_string = input(\"Enter a string: \")\n",
    "#vowels = \"AEIOUaeiou\"\n",
    "#print(\"String without Vowels:\", filtered_string)"
   ]
  },
  {
   "cell_type": "code",
   "execution_count": 14,
   "id": "bbbed1a9",
   "metadata": {},
   "outputs": [
    {
     "data": {
      "text/plain": [
       "'All is well'"
      ]
     },
     "execution_count": 14,
     "metadata": {},
     "output_type": "execute_result"
    }
   ],
   "source": [
    "# To Check specific word\n",
    "mystr = \"All is well\"\n",
    "mystr"
   ]
  },
  {
   "cell_type": "code",
   "execution_count": 15,
   "id": "65664b02",
   "metadata": {},
   "outputs": [
    {
     "data": {
      "text/plain": [
       "True"
      ]
     },
     "execution_count": 15,
     "metadata": {},
     "output_type": "execute_result"
    }
   ],
   "source": [
    "'well' in mystr"
   ]
  },
  {
   "cell_type": "code",
   "execution_count": 16,
   "id": "a607225b",
   "metadata": {},
   "outputs": [
    {
     "data": {
      "text/plain": [
       "4"
      ]
     },
     "execution_count": 16,
     "metadata": {},
     "output_type": "execute_result"
    }
   ],
   "source": [
    "# To check number of occurance of specific character\n",
    "mystr.count('l')"
   ]
  },
  {
   "cell_type": "code",
   "execution_count": 17,
   "id": "d625e101",
   "metadata": {},
   "outputs": [
    {
     "data": {
      "text/plain": [
       "1"
      ]
     },
     "execution_count": 17,
     "metadata": {},
     "output_type": "execute_result"
    }
   ],
   "source": [
    "# count the number of occurence of given substring in given string\n",
    "mystr.count('All')"
   ]
  },
  {
   "cell_type": "code",
   "execution_count": 18,
   "id": "50b19369",
   "metadata": {},
   "outputs": [
    {
     "name": "stdout",
     "output_type": "stream",
     "text": [
      "All ell\n"
     ]
    }
   ],
   "source": [
    "# To extract the first three and last three characters from a string\n",
    "print(mystr[:3],mystr[8:])\n"
   ]
  },
  {
   "cell_type": "code",
   "execution_count": 1,
   "id": "ac057a1b",
   "metadata": {},
   "outputs": [
    {
     "name": "stdout",
     "output_type": "stream",
     "text": [
      "Enter your NameSoumya\n",
      "Enter Age25\n",
      "My Name is Soumya & i am 25 years old\n"
     ]
    }
   ],
   "source": [
    "# create a program that takes a users name and age as input and prints a message using string formatting.\n",
    "Name = input(\"Enter your Name\")\n",
    "Age = input(\"Enter Age\")\n",
    "print(\"My Name is {} & i am {} years old\".format(Name,Age))"
   ]
  },
  {
   "cell_type": "code",
   "execution_count": 3,
   "id": "da7838d7",
   "metadata": {},
   "outputs": [
    {
     "name": "stdout",
     "output_type": "stream",
     "text": [
      "['Honey', 'Singh']\n"
     ]
    }
   ],
   "source": [
    "# programm to split a functions into words\n",
    "mystr2 = \"Honey Singh\"\n",
    "print(mystr2.split())"
   ]
  },
  {
   "cell_type": "code",
   "execution_count": 4,
   "id": "7caad3df",
   "metadata": {},
   "outputs": [
    {
     "name": "stdout",
     "output_type": "stream",
     "text": [
      ".Honey Singh.Honey Singh.Honey Singh.\n"
     ]
    }
   ],
   "source": [
    "# using join() function\n",
    "print(mystr2.join('....'))"
   ]
  },
  {
   "cell_type": "code",
   "execution_count": 5,
   "id": "a0bc8034",
   "metadata": {},
   "outputs": [
    {
     "data": {
      "text/plain": [
       "'Honey Singh'"
      ]
     },
     "execution_count": 5,
     "metadata": {},
     "output_type": "execute_result"
    }
   ],
   "source": [
    "# replace a specific word into another using replace() function\n",
    "mystr2.replace('well','Good')"
   ]
  },
  {
   "cell_type": "code",
   "execution_count": 6,
   "id": "12259150",
   "metadata": {},
   "outputs": [
    {
     "name": "stdout",
     "output_type": "stream",
     "text": [
      "Enter a sentence: Samarth is a hopeless fellow\n",
      "Title Case Sentence: Samarth Is A Hopeless Fellow\n"
     ]
    }
   ],
   "source": [
    "# Input sentence\n",
    "input_sentence = input(\"Enter a sentence: \")\n",
    "\n",
    "# Convert the first letter of each word to uppercase\n",
    "title_case_sentence = input_sentence.title()\n",
    "\n",
    "# Print the sentence in title case\n",
    "print(\"Title Case Sentence:\", title_case_sentence)"
   ]
  },
  {
   "cell_type": "code",
   "execution_count": null,
   "id": "4345cd2b",
   "metadata": {},
   "outputs": [],
   "source": []
  }
 ],
 "metadata": {
  "kernelspec": {
   "display_name": "Python 3 (ipykernel)",
   "language": "python",
   "name": "python3"
  },
  "language_info": {
   "codemirror_mode": {
    "name": "ipython",
    "version": 3
   },
   "file_extension": ".py",
   "mimetype": "text/x-python",
   "name": "python",
   "nbconvert_exporter": "python",
   "pygments_lexer": "ipython3",
   "version": "3.11.5"
  }
 },
 "nbformat": 4,
 "nbformat_minor": 5
}
