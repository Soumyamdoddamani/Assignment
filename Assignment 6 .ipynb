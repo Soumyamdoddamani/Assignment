{
 "cells": [
  {
   "cell_type": "markdown",
   "id": "8754c405",
   "metadata": {},
   "source": [
    "## Assignment on CSV File"
   ]
  },
  {
   "cell_type": "code",
   "execution_count": 23,
   "id": "7a2fe38d",
   "metadata": {},
   "outputs": [
    {
     "name": "stdout",
     "output_type": "stream",
     "text": [
      "Successfully Opened csv\n",
      "<class 'csv.DictReader'>\n",
      "dict_values(['3D glasses', 'White', 'No', '490', '122', 'White', 'Colorful', '1x1', 'NA', 'Able Sisters', 'Available from Able Sisters shop only', 'All Year', 'No', '1.0.0', 'Active', 'party', 'AccessoryEye', 'Yes', 'For sale', 'AccessoryGlassThreed0', '4463', 'FNxEraBTeWRiCvtFu'])\n",
      "dict_values(['3D glasses', 'Black', 'No', '490', '122', 'Black', 'Colorful', '1x1', 'NA', 'Able Sisters', 'Available from Able Sisters shop only', 'All Year', 'No', '1.0.0', 'Active', 'party', 'AccessoryEye', 'Yes', 'For sale', 'AccessoryGlassThreed1', '11020', 'mM9SXPCcGPfPJAmtm'])\n",
      "dict_values(['bandage', 'Beige', 'No', '140', '35', 'Beige', 'White', '1x1', 'NA', 'Able Sisters', \"Available from either Mable's temporary shop or Able Sisters shop\", 'All Year', 'Yes', '1.0.0', 'Active', 'outdoorsy; comfy; sporty', 'AccessoryMouth', 'No', 'For sale', 'AccessoryMouthBandageSkin', '4677', '2qFT5iPkk8bREvpkj'])\n",
      "dict_values(['beak', 'Yellow', 'No', '490', '122', 'Yellow', 'Yellow', '1x1', 'NA', 'Able Sisters', \"Available from either Mable's temporary shop or Able Sisters shop\", 'All Year', 'Yes', '1.0.0', 'Cute', 'fairy tale; party; theatrical', 'AccessoryMouthInvisibleNose', 'No', 'For sale', 'AccessoryMouthBeakYellow', '3549', 'T5CpsJi4xBSachNL5'])\n",
      "dict_values(['birthday shades', 'Yellow', 'No', 'NFS', '620', 'Yellow', 'Red', '1x1', 'NA', 'Birthday', '', 'All Year', 'No', '1.0.0', 'Gorgeous', 'party', 'AccessoryEye', 'Yes', 'Not for sale', 'AccessoryGlassBirthday0', '4510', 'S6CiB9ZvzBTMhEnDz'])\n"
     ]
    }
   ],
   "source": [
    "import csv\n",
    "c=0\n",
    "#opening the csv file\n",
    "with open('C:/Users/Dell/OneDrive/Desktop/accessories.csv',mode='r') as fd:\n",
    "    print(\"Successfully Opened csv\")\n",
    "    data = csv.DictReader(fd)\n",
    "    print(type(data))\n",
    "    for line in data:\n",
    "        c = c+1\n",
    "        if c>5:\n",
    "            break\n",
    "        if c==0:\n",
    "            continue\n",
    "        \n",
    "        print(line.values())"
   ]
  },
  {
   "cell_type": "code",
   "execution_count": 7,
   "id": "75f64256",
   "metadata": {},
   "outputs": [
    {
     "name": "stdout",
     "output_type": "stream",
     "text": [
      "Timestamp\n",
      "Choose your gender\n",
      "Age\n",
      "What is your course?\n",
      "Your current year of Study\n",
      "What is your CGPA?\n",
      "Marital status\n",
      "Do you have Depression?\n",
      "Do you have Anxiety?\n",
      "Do you have Panic attack?\n",
      "Did you seek any specialist for a treatment?\n"
     ]
    }
   ],
   "source": [
    "import csv\n",
    "filename = 'C:/Users/Dell/OneDrive/Desktop/Student Mental health.csv'\n",
    "fields = []\n",
    "rows = []\n",
    "with open(filename,mode='r') as csvfile:\n",
    "    csvreader = csv.reader(csvfile)\n",
    "    fields = next(csvreader)\n",
    "    for coloumname in fields:\n",
    "        print(coloumname)"
   ]
  },
  {
   "cell_type": "code",
   "execution_count": 12,
   "id": "6ae0a41b",
   "metadata": {},
   "outputs": [
    {
     "name": "stdout",
     "output_type": "stream",
     "text": [
      "<class '_csv.reader'>\n",
      "2 Participated in Swimming got Gold medal 2\n",
      "3 Participated in Swimming got Silver medal 3\n",
      "4 Participated in Swimming got Bronze medal 4\n",
      "5 Participated in Swimming got Gold medal 5\n"
     ]
    }
   ],
   "source": [
    "import csv\n",
    "c=0\n",
    "# opening the csv file\n",
    "with open('C:/Users/Dell/OneDrive/Desktop/summer.csv',mode='r') as fd:\n",
    "    #print(\"Successfully Opened csv\")\n",
    "    data = csv.reader(fd)\n",
    "    print(type(data))\n",
    "    for line in data:\n",
    "        c = c+1\n",
    "        if c>5:\n",
    "            break\n",
    "        if c==1:\n",
    "            continue\n",
    "        print(c,\"Participated in\",line[3],'got',line[8] ,'medal',c)\n",
    "        "
   ]
  },
  {
   "cell_type": "code",
   "execution_count": 15,
   "id": "a7d3a373",
   "metadata": {},
   "outputs": [
    {
     "name": "stdout",
     "output_type": "stream",
     "text": [
      "Admiral's poster      1000       250     Green      Blue       1x1Nook's Shopping - PostersIn the Special Items section in Nook Shopping, after inviting the villager to Photopia (either through amiibo, or if the villager lives in your town)     1.0.0  For salePosterNpcNmlBrd06     108143LW8HyqLZTJRaGQT9\n",
      "\n",
      "Agent S's poster      1000       250      Blue      Gray       1x1Nook's Shopping - PostersIn the Special Items section in Nook Shopping, after inviting the villager to Photopia (either through amiibo, or if the villager lives in your town)     1.0.0  For salePosterNpcNmlSqu05     10425bZu92nbNfGmQvp54D\n",
      "\n",
      "Agnes's poster      1000       250      Pink     Black       1x1Nook's Shopping - PostersIn the Special Items section in Nook Shopping, after inviting the villager to Photopia (either through amiibo, or if the villager lives in your town)     1.0.0  For salePosterNpcNmlPig17     104012wZBfe8Ed7QMvQ8tX\n",
      "\n",
      "Al's poster      1000       250       RedLight blue       1x1Nook's Shopping - PostersIn the Special Items section in Nook Shopping, after inviting the villager to Photopia (either through amiibo, or if the villager lives in your town)     1.0.0  For salePosterNpcNmlGor08     10590sat2PG8L97DymZbQw\n",
      "\n",
      "Alfonso's poster      1000       250    Orange       Red       1x1Nook's Shopping - PostersIn the Special Items section in Nook Shopping, after inviting the villager to Photopia (either through amiibo, or if the villager lives in your town)     1.0.0  For salePosterNpcNmlCrd00     10382NjW35Zc7MnTipYZbg\n",
      "\n"
     ]
    }
   ],
   "source": [
    "import csv\n",
    "filename = 'C:/Users/Dell/OneDrive/Desktop/posters.csv'\n",
    "fields = []\n",
    "rows = []\n",
    "with open(filename,mode='r') as csvfile:\n",
    "    csvreader = csv.reader(csvfile)\n",
    "    fields = next(csvreader)\n",
    "   # for coloumname in fields:\n",
    "   #     print(coloumname)\n",
    "    for row in csvreader:\n",
    "       # print((type(row)))\n",
    "        rows.append(row)\n",
    "       # print(rows)\n",
    "for row in rows[:5]:\n",
    "    for col in row:\n",
    "        print(\"%10s\"%col,end=\"\")\n",
    "    print(\"\\n\")"
   ]
  },
  {
   "cell_type": "code",
   "execution_count": 17,
   "id": "aee5d11d",
   "metadata": {},
   "outputs": [
    {
     "name": "stdout",
     "output_type": "stream",
     "text": [
      "Province/State\n",
      "Country/Region\n",
      "Lat\n",
      "Long\n",
      "Date\n",
      "Confirmed\n",
      "Deaths\n",
      "Recovered\n",
      "Active\n",
      "WHO Region\n"
     ]
    }
   ],
   "source": [
    "import csv\n",
    "filename = 'C:/Users/Dell/OneDrive/Desktop/covid_19.csv'\n",
    "fields = []\n",
    "rows = []\n",
    "with open(filename,mode='r') as csvfile:\n",
    "    csvreader = csv.reader(csvfile)\n",
    "    fields = next(csvreader)\n",
    "    for coloumname in fields:\n",
    "        print(coloumname)"
   ]
  },
  {
   "cell_type": "code",
   "execution_count": null,
   "id": "6f6b1850",
   "metadata": {},
   "outputs": [],
   "source": []
  }
 ],
 "metadata": {
  "kernelspec": {
   "display_name": "Python 3 (ipykernel)",
   "language": "python",
   "name": "python3"
  },
  "language_info": {
   "codemirror_mode": {
    "name": "ipython",
    "version": 3
   },
   "file_extension": ".py",
   "mimetype": "text/x-python",
   "name": "python",
   "nbconvert_exporter": "python",
   "pygments_lexer": "ipython3",
   "version": "3.11.5"
  }
 },
 "nbformat": 4,
 "nbformat_minor": 5
}
