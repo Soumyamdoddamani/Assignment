{
 "cells": [
  {
   "cell_type": "code",
   "execution_count": 2,
   "id": "0710e983",
   "metadata": {},
   "outputs": [
    {
     "name": "stdout",
     "output_type": "stream",
     "text": [
      "64\n"
     ]
    }
   ],
   "source": [
    "# 1. Python program to compute the power of a number.\n",
    "\n",
    "def power(n,e):\n",
    "    res=1\n",
    "    for i in range(e):\n",
    "        res *= n\n",
    "    return res\n",
    "print(power(2,4))"
   ]
  },
  {
   "cell_type": "code",
   "execution_count": 4,
   "id": "bfd0257e",
   "metadata": {},
   "outputs": [
    {
     "name": "stdout",
     "output_type": "stream",
     "text": [
      "Enter a number: 12345\n",
      "Length of a: 5\n"
     ]
    }
   ],
   "source": [
    "# 2 Python program to count the number of digits present in a number.\n",
    "\n",
    "a = input(\"Enter a number: \")\n",
    "len(a)\n",
    "print(\"Length of a:\",len(a))"
   ]
  },
  {
   "cell_type": "code",
   "execution_count": 5,
   "id": "b6a7392b",
   "metadata": {},
   "outputs": [
    {
     "name": "stdout",
     "output_type": "stream",
     "text": [
      "[2, 4, 10, 20, 5]\n"
     ]
    }
   ],
   "source": [
    "# 3.Python program to remove duplicate element from a list.\n",
    "\n",
    "def Remove(duplicate):\n",
    "    final_list = []\n",
    "    for num in duplicate:\n",
    "        if num not in final_list:\n",
    "            final_list.append(num)\n",
    "    return final_list\n",
    "    \n",
    "\n",
    "duplicate = [2, 4, 10, 20, 5, 2, 20, 4]\n",
    "print(Remove(duplicate))\n"
   ]
  },
  {
   "cell_type": "code",
   "execution_count": 9,
   "id": "c916c512",
   "metadata": {},
   "outputs": [
    {
     "name": "stdout",
     "output_type": "stream",
     "text": [
      "Enter year: 2023\n",
      "Enter month: 11\n",
      "   November 2023\n",
      "Mo Tu We Th Fr Sa Su\n",
      "       1  2  3  4  5\n",
      " 6  7  8  9 10 11 12\n",
      "13 14 15 16 17 18 19\n",
      "20 21 22 23 24 25 26\n",
      "27 28 29 30\n",
      "\n"
     ]
    }
   ],
   "source": [
    "# 4.Python program to display calendar\n",
    "\n",
    "import calendar\n",
    "\n",
    "#yy = 2023  # year\n",
    "#mm = 11    # month\n",
    "\n",
    "# To take month and year input from the user\n",
    "yy = int(input(\"Enter year: \"))\n",
    "mm = int(input(\"Enter month: \"))\n",
    "\n",
    "# display the calendar\n",
    "print(calendar.month(yy, mm))"
   ]
  },
  {
   "cell_type": "code",
   "execution_count": 13,
   "id": "3f70e404",
   "metadata": {},
   "outputs": [
    {
     "name": "stdout",
     "output_type": "stream",
     "text": [
      "Sum of the array is : 23\n"
     ]
    }
   ],
   "source": [
    "# 5.Python Program to find the sum of arrays\n",
    "\n",
    "array = [1, 3, 4, 15]\n",
    "ans = sum(array)\n",
    "print('Sum of the array is :', ans)"
   ]
  },
  {
   "cell_type": "code",
   "execution_count": 14,
   "id": "4a137da3",
   "metadata": {},
   "outputs": [],
   "source": [
    "# 6. Python | Check for URL in a String.\n",
    "\n"
   ]
  },
  {
   "cell_type": "code",
   "execution_count": 17,
   "id": "5973b67c",
   "metadata": {},
   "outputs": [
    {
     "name": "stdout",
     "output_type": "stream",
     "text": [
      "[(3, 27), (4, 64), (1, 1), (2, 8)]\n"
     ]
    }
   ],
   "source": [
    "# 7. Create a list of tuples from the given list having number and its cube in each tuple.\n",
    "\n",
    "def cube(list):\n",
    "    result=[(num, num**3) for num in list]\n",
    "    return result\n",
    "\n",
    "list = [3, 4, 1, 2]\n",
    "\n",
    "print(cube(list))"
   ]
  },
  {
   "cell_type": "code",
   "execution_count": 19,
   "id": "53cdac0c",
   "metadata": {},
   "outputs": [
    {
     "name": "stdout",
     "output_type": "stream",
     "text": [
      "['app', 'bus', 'code', 'dog', 'egg', 'fun']\n",
      "After deleting elements []\n"
     ]
    }
   ],
   "source": [
    "# 8. Python program to delete all elements in list.\n",
    "\n",
    "list = ['app','bus','code','dog','egg','fun']\n",
    "\n",
    "print(list)\n",
    "list.clear()\n",
    "\n",
    "print(\"After deleting elements\", list)"
   ]
  },
  {
   "cell_type": "code",
   "execution_count": 33,
   "id": "2bb37c81",
   "metadata": {},
   "outputs": [
    {
     "name": "stdout",
     "output_type": "stream",
     "text": [
      "Total gross pay: Rs.50000.00  \n"
     ]
    }
   ],
   "source": [
    "# 9. Python Program to Enter Basic Salary and Calculate Gross Salary of an Employee.\n",
    "\n",
    "def getGrossPay(annual_salary, months):\n",
    "    return float(annual_salary/months)\n",
    "\n",
    "\n",
    "annual_salary = 600000\n",
    "months = 12\n",
    "pay = getGrossPay(annual_salary, months)\n",
    "\n",
    "print(f\"Total gross pay: Rs.{pay:.2f}  \")\n"
   ]
  },
  {
   "cell_type": "code",
   "execution_count": 21,
   "id": "171ef221",
   "metadata": {},
   "outputs": [
    {
     "name": "stdout",
     "output_type": "stream",
     "text": [
      "3.0\n"
     ]
    }
   ],
   "source": [
    "# 10. Python Program to calculate the average of numbers in a given list\n",
    "\n",
    "from functools import reduce\n",
    "\n",
    "numbers = [1, 2, 3, 4, 5]\n",
    "average = reduce(lambda x, y: x + y, numbers) / len(numbers)      # 1+2+3+4+5/5\n",
    "print(average)"
   ]
  },
  {
   "cell_type": "code",
   "execution_count": null,
   "id": "75bb31aa",
   "metadata": {},
   "outputs": [],
   "source": []
  }
 ],
 "metadata": {
  "kernelspec": {
   "display_name": "Python 3 (ipykernel)",
   "language": "python",
   "name": "python3"
  },
  "language_info": {
   "codemirror_mode": {
    "name": "ipython",
    "version": 3
   },
   "file_extension": ".py",
   "mimetype": "text/x-python",
   "name": "python",
   "nbconvert_exporter": "python",
   "pygments_lexer": "ipython3",
   "version": "3.11.5"
  }
 },
 "nbformat": 4,
 "nbformat_minor": 5
}
