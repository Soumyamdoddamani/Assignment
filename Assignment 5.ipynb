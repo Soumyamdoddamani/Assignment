{
 "cells": [
  {
   "cell_type": "code",
   "execution_count": 4,
   "id": "be4b9729",
   "metadata": {},
   "outputs": [
    {
     "name": "stdout",
     "output_type": "stream",
     "text": [
      "Enter number: 6\n",
      "Result: ['Even']\n"
     ]
    }
   ],
   "source": [
    "# 1. write fuc to get from users and check whether num is even or odd\n",
    "\n",
    "def odd_even(number):\n",
    "    if number % 2 == 0:\n",
    "        return \"Even\"\n",
    "    else:\n",
    "        return \"Odd\"\n",
    "user = input(\"Enter number: \")\n",
    "numbers = list(map(int, user.split()))\n",
    "result = list(map(odd_even, numbers))\n",
    "print(\"Result:\",result)"
   ]
  },
  {
   "cell_type": "code",
   "execution_count": 8,
   "id": "8e5a0500",
   "metadata": {},
   "outputs": [
    {
     "name": "stdout",
     "output_type": "stream",
     "text": [
      "Enter a num:2\n",
      "Prime\n"
     ]
    }
   ],
   "source": [
    "# 2. write a fun to check whether the given num is prime or not.\n",
    "\n",
    "n = int(input(\"Enter a num:\"))\n",
    "if n>1:\n",
    "    for i in range(2,int(n//2)+1):\n",
    "        if n%1==0:\n",
    "            print(\"Not a prime\")\n",
    "            break\n",
    "    else:\n",
    "        print(\"Prime\")\n",
    "else:\n",
    "    print(n,\"is not prime\")\n",
    "    "
   ]
  },
  {
   "cell_type": "code",
   "execution_count": 10,
   "id": "2ebe439a",
   "metadata": {},
   "outputs": [
    {
     "name": "stdout",
     "output_type": "stream",
     "text": [
      "Enter numbers: 12 5\n",
      "Product = 60\n"
     ]
    }
   ],
   "source": [
    "# 3. cal the product of all the elements in a list.\n",
    "\n",
    "def product(numbers):\n",
    "    prod = 1     \n",
    "    for n in numbers:\n",
    "        prod *= n\n",
    "    return prod\n",
    "numbers = input(\"Enter numbers: \").split()\n",
    "numbers = list(map(int, numbers))\n",
    "res = product(numbers)\n",
    "print(\"Product =\" ,res)"
   ]
  },
  {
   "cell_type": "code",
   "execution_count": 12,
   "id": "de9f9918",
   "metadata": {},
   "outputs": [
    {
     "name": "stdout",
     "output_type": "stream",
     "text": [
      "(81, 4, 9)\n"
     ]
    }
   ],
   "source": [
    "# 4. get the square root if the num in a tuple.\n",
    "\n",
    "def square(n):\n",
    "    return n*n\n",
    "num =(9,2,3)\n",
    "result = map(lambda x : x*x, num)\n",
    "print(tuple(result))"
   ]
  },
  {
   "cell_type": "code",
   "execution_count": 10,
   "id": "a760388f",
   "metadata": {},
   "outputs": [
    {
     "name": "stdout",
     "output_type": "stream",
     "text": [
      "[11, 13, 17, 19, 23, 29]\n"
     ]
    }
   ],
   "source": [
    "# 5. Get the prime num from the nums 11 to 30.\n",
    "from functools import reduce\n",
    "def prime(a):\n",
    "    if a < 2:\n",
    "        return False\n",
    "    for i in range(2, int(a**0.5) + 1):\n",
    "        if a % i == 0:\n",
    "            return False\n",
    "    return True\n",
    "m = 11\n",
    "n = 30\n",
    "\n",
    "prime_num = [num for num in range(m, n + 1) if prime(num)]\n",
    "print(prime_num)"
   ]
  },
  {
   "cell_type": "code",
   "execution_count": 6,
   "id": "51f43574",
   "metadata": {
    "scrolled": true
   },
   "outputs": [
    {
     "name": "stdout",
     "output_type": "stream",
     "text": [
      "Original list:\n",
      "[19, 8, 7]\n",
      "[4, 11, 9]\n",
      "Result: after adding two list\n",
      "[23, 19, 16]\n"
     ]
    }
   ],
   "source": [
    "# 6. create 2 lists of integers value,add both the list element-wise\n",
    "#  and filter the values which are greater than 10 and find the products of those values.\n",
    "\n",
    "from functools import reduce\n",
    "nums1 = [19, 8, 7]\n",
    "nums2 = [4, 11, 9]\n",
    "print(\"Original list:\")\n",
    "print(nums1)\n",
    "print(nums2)\n",
    "Result = list(map(lambda x, y: x + y, nums1, nums2))\n",
    "print(\"Result: after adding two list\")\n",
    "print(list(Result))"
   ]
  },
  {
   "cell_type": "code",
   "execution_count": 7,
   "id": "156af546",
   "metadata": {},
   "outputs": [
    {
     "name": "stdout",
     "output_type": "stream",
     "text": [
      "Values greater than 10: [23, 19, 16]\n"
     ]
    }
   ],
   "source": [
    "filtered = list(filter(lambda x : x > 10,Result))\n",
    "print(\"Values greater than 10:\",filtered)\n"
   ]
  },
  {
   "cell_type": "code",
   "execution_count": 10,
   "id": "323b902c",
   "metadata": {},
   "outputs": [
    {
     "name": "stdout",
     "output_type": "stream",
     "text": [
      "6992\n"
     ]
    }
   ],
   "source": [
    "print(reduce(lambda x,y : x*y,filtered))"
   ]
  },
  {
   "cell_type": "code",
   "execution_count": null,
   "id": "62c6a7e1",
   "metadata": {},
   "outputs": [],
   "source": []
  }
 ],
 "metadata": {
  "kernelspec": {
   "display_name": "Python 3 (ipykernel)",
   "language": "python",
   "name": "python3"
  },
  "language_info": {
   "codemirror_mode": {
    "name": "ipython",
    "version": 3
   },
   "file_extension": ".py",
   "mimetype": "text/x-python",
   "name": "python",
   "nbconvert_exporter": "python",
   "pygments_lexer": "ipython3",
   "version": "3.11.5"
  }
 },
 "nbformat": 4,
 "nbformat_minor": 5
}
