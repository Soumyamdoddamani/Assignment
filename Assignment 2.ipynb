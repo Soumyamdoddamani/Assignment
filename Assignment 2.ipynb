{
 "cells": [
  {
   "cell_type": "code",
   "execution_count": 1,
   "id": "34067a8c",
   "metadata": {},
   "outputs": [
    {
     "name": "stdout",
     "output_type": "stream",
     "text": [
      "Please enter your name: Amrit A Kalmane\n",
      "Please enter your age: 21\n",
      "Please enter your email address: amritakalmane21@gmail.com\n",
      "Please enter your phone number: 8574123698\n",
      "Please enter your address: Keshwapur,Hubli\n",
      "Please enter your profession: Event Manager\n",
      "Biography:\n",
      "\n",
      "Name: Amrit A Kalmane\n",
      "Age: 21\n",
      "Email: amritakalmane21@gmail.com\n",
      "Phone Number: 8574123698\n",
      "Address: Keshwapur,Hubli\n",
      "Profession: Event Manager\n"
     ]
    }
   ],
   "source": [
    "\n",
    "# Get User Information Script\n",
    "\n",
    "# Prompt the user for their information\n",
    "name = input(\"Please enter your name: \")\n",
    "age = input(\"Please enter your age: \")\n",
    "email = input(\"Please enter your email address: \")\n",
    "phone_number = input(\"Please enter your phone number: \")\n",
    "address = input(\"Please enter your address: \")\n",
    "profession = input(\"Please enter your profession: \")\n",
    "\n",
    "# Create a biography paragraph\n",
    "biography = f\"Biography:\\n\\nName: {name}\\nAge: {age}\\nEmail: {email}\\nPhone Number: {phone_number}\\nAddress: {address}\\nProfession: {profession}\"\n",
    "\n",
    "# Print the biography in a nicely formatted paragraph\n",
    "print(biography)"
   ]
  },
  {
   "cell_type": "code",
   "execution_count": null,
   "id": "84133449",
   "metadata": {},
   "outputs": [],
   "source": []
  }
 ],
 "metadata": {
  "kernelspec": {
   "display_name": "Python 3 (ipykernel)",
   "language": "python",
   "name": "python3"
  },
  "language_info": {
   "codemirror_mode": {
    "name": "ipython",
    "version": 3
   },
   "file_extension": ".py",
   "mimetype": "text/x-python",
   "name": "python",
   "nbconvert_exporter": "python",
   "pygments_lexer": "ipython3",
   "version": "3.11.5"
  }
 },
 "nbformat": 4,
 "nbformat_minor": 5
}
